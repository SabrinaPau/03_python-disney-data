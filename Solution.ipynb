{
 "cells": [
  {
   "attachments": {},
   "cell_type": "markdown",
   "metadata": {},
   "source": [
    "# Disney+ Movies and TV Shows #\n"
   ]
  },
  {
   "attachments": {},
   "cell_type": "markdown",
   "metadata": {},
   "source": [
    "You are working as Junior Data Analyst at Disney Plus. There is combined data on movies and TV shows. It is available in [Kaggle](https://www.kaggle.com/datasets/shivamb/disney-movies-and-tv-shows). \n",
    "\n",
    "The Content Manager wants you to clean the data and provide insights to answer some of the questions like:\n",
    "\n",
    "1. Identify the unique list of ratings. How many movies and tv shows are listed under each rating?\n",
    "2. What is the average duration of movies and tv shows?\n",
    "3. How many movies and tv shows have been released till now in Germany. Give the list year-wise.\n",
    "4. Which Director has directed the maximum number of movies and in which genre?\n",
    "\n",
    "The task has been handed over to you by your team lead in the data department. They expect you to apply your Python knowledge on strings, descriptive statistics and want you to <span style=\"color:#fc5a37\">build re-usable functions.</span>\n",
    "\n",
    "Your analysis will help the Content Manager at Disney Plus to make a decision on the direction and future investments the company makes in movies as well as TV shows and will influence what gets released. \n",
    "\n",
    "Also, your manager wants to use the functions himself and he is not code savvy. For him to understand the functions and re-use them, <span style=\"color:#fc5a37\">add DocStrings to your functions</span> mentioning what it does, expected inputs along with their default values and expected outputs.\n",
    "\n",
    "There are expected outputs mentioned for few of the cells for you to confirm that you are on right track. \n",
    "\n",
    "You might have to refer to Python documentation. "
   ]
  },
  {
   "attachments": {},
   "cell_type": "markdown",
   "metadata": {},
   "source": [
    "## Data dictionary ##\n",
    "\n",
    "1. show_id - Unique id\n",
    "2. type - Movie or TV Show\n",
    "3. title - Name of the movie/show\n",
    "4. director - Directors of the movie/show\n",
    "5. cast - Main cast of the movie/show\n",
    "6. country - Country of production\n",
    "7. date_Added - Date added on Disney+\n",
    "8. release_year - Original Release Year of the movie/tv show\n",
    "9. rating - Rating of the movie/show \n",
    "10. duration - Total duration of the movie/show"
   ]
  },
  {
   "attachments": {},
   "cell_type": "markdown",
   "metadata": {},
   "source": [
    "## Step 1: Read the file"
   ]
  },
  {
   "cell_type": "code",
   "execution_count": 1,
   "metadata": {},
   "outputs": [],
   "source": [
    "# This code block is pre-coded for you. You don't have to write anything in this one.\n",
    "from csv import reader #Package that reads the csv file.\n",
    "opened_file = open('./Data/disney_plus_titles.csv', encoding=\"utf-8\")\n",
    "read_file = reader(opened_file)\n",
    "data_list = list(read_file) # This stores the data in the list of lists format."
   ]
  },
  {
   "cell_type": "markdown",
   "metadata": {},
   "source": [
    "Extract the header (column names) which is first row in data_list in `data_header` and keep rest other rows (except header) in `data`. \n",
    "\n",
    "Hint: How would you access the first element of a list?"
   ]
  },
  {
   "cell_type": "code",
   "execution_count": 2,
   "metadata": {},
   "outputs": [],
   "source": [
    "data_header = data_list[0]\n",
    "data = data_list[1:]"
   ]
  },
  {
   "cell_type": "code",
   "execution_count": null,
   "metadata": {},
   "outputs": [],
   "source": [
    "print(data_header)"
   ]
  },
  {
   "attachments": {},
   "cell_type": "markdown",
   "metadata": {},
   "source": [
    "## Step 2: Create function `explore_data` to explore data ##"
   ]
  },
  {
   "cell_type": "markdown",
   "metadata": {},
   "source": [
    "### Function description and output overview\n",
    "The function `explore_data` should print the following:\n",
    "1. Selected rows from start to end.\n",
    "2. Number of rows and columns if chosen to do so.\n",
    "\n",
    "The function will take following parameters as input\n",
    "1. `my_data_local`\n",
    "2. `start_row_local`\n",
    "3. `end_row_local`\n",
    "4. `rows_and_columns_local` a boolean to check if you want to display total number of rows and columns. \n",
    "\n",
    "For example, I want to display first five rows and also want to display total number of rows and columns in the input data. \n",
    "\n",
    "So I will call this function as `explore_data(data,0,5,True)`and the expected output is:\n",
    "\n",
    "<style>\n",
    "    .code_block {\n",
    "        background-color: #ff795c;\n",
    "        color: white;\n",
    "    }\n",
    "</style>\n",
    "\n",
    "<div class=\"code_block\">\n",
    "\n",
    "['s1', 'Movie - Animation', 'Duck the Halls: A Mickey Mouse Christmas Special', 'Alonso Ramirez Ramos, Dave Wasson', 'Chris Diamantopoulos, Tony Anselmo, Tress MacNeille, Bill Farmer, Russi Taylor, Corey Burton', '', 'November 26, 2021', '2016', 'TV-G', '23 min', 'Animation, Family', 'Join Mickey and the gang as they duck the halls!']\n",
    "\n",
    "\n",
    "['s2', 'Movie-Comedy', 'Ernest Saves Christmas', 'John Cherry', 'Jim Varney, Noelle Parker, Douglas Seale', '', 'November 26, 2021', '1988', 'PG', '91 min', 'Comedy', 'Santa Claus passes his magic bag to a new St. Nic.']\n",
    "\n",
    "\n",
    "['s3', 'Movie', 'Ice Age: A Mammoth Christmas', 'Karen Disher', 'Raymond Albert Romano, John Leguizamo, Denis Leary, Queen Latifah', 'United States', 'November 26, 2021', '2011', 'TV-G', '23 min', 'Animation, Comedy, Family', \"Sid the Sloth is on Santa's naughty list.\"]\n",
    "\n",
    "\n",
    "['s4', 'Movie', 'The Queen Family Singalong', 'Hamish Hamilton', 'Darren Criss, Adam Lambert, Derek Hough, Alexander Jean, Fall Out Boy, Jimmie Allen', '', 'November 26, 2021', '2021', 'TV-PG', '41 min', 'Musical', 'This is real life, not just fantasy!']\n",
    "\n",
    "\n",
    "['s5', 'TV Show - Docuseries', 'The Beatles: Get Back', '', 'John Lennon, Paul McCartney, George Harrison, Ringo Starr', '', 'November 25, 2021', '2021', '', '1 Season', 'Docuseries, Historical, Music', 'A three-part documentary from Peter Jackson capturing a moment in music history with The Beatles.']\n",
    "\n",
    "\n",
    "no. of rows: 1450\n",
    "\n",
    "no. of columns: 12"
   ]
  },
  {
   "cell_type": "markdown",
   "metadata": {},
   "source": [
    "### Pseudocode\n",
    "Below is the Pseudocode for the function\n",
    "\n",
    "def explore_data(Give the parameters along with default values):\n",
    "\n",
    "  1. Slice the `my_data_local` using `start_row_local` and `end_row_local`. Remember data is a list.\n",
    "\n",
    "  2. Write a for loop to print each element in sliced data and adding a new empty line after each row using print('\\n').\n",
    "        \n",
    "  3. Write an `if statement` which checks for if user wants to display number of rows and columns. \n",
    "      - If yes, then print the number of rows using `len` function on data and number of columns using `len` function on the first element of data. "
   ]
  },
  {
   "cell_type": "markdown",
   "metadata": {},
   "source": [
    "### Function definition"
   ]
  },
  {
   "cell_type": "code",
   "execution_count": 4,
   "metadata": {},
   "outputs": [],
   "source": [
    "def explore_data(data_l, start_l, end_l, rows_and_columns_l=False):\n",
    "    \"\"\"Function that explores the data and returns the data between given start and end rows. Also, it displays total number of rows and columns if set as True. By default, it is set to False.\n",
    "    \n",
    "    Args:\n",
    "        data_list, starting row, ending row(exclusive) and flag to check if number of rows and columns are to be displayed.\n",
    "\n",
    "    Returns:\n",
    "        sliced data_list and of flag is set then number of columns and rows.\n",
    "        \n",
    "    \"\"\"\n",
    "    if end_l == None:\n",
    "        data_slice_l = data_l[start_l:]\n",
    "    else:\n",
    "        data_slice_l = data_l[start_l:end_l]\n",
    "        \n",
    "    for row_l in data_slice_l:\n",
    "        print(row_l)\n",
    "        print('\\n')\n",
    "        \n",
    "    if rows_and_columns_l:\n",
    "        print('no. of rows:', len(data_l))\n",
    "        print('no. of columns:', len(data_l[0]))"
   ]
  },
  {
   "cell_type": "markdown",
   "metadata": {},
   "source": [
    "### Calling function to explore data\n",
    "\n",
    "Use `explore_data` function to display top 5 rows along with number of rows and columns."
   ]
  },
  {
   "cell_type": "code",
   "execution_count": null,
   "metadata": {},
   "outputs": [],
   "source": [
    "explore_data(data,0,5,True)"
   ]
  },
  {
   "attachments": {},
   "cell_type": "markdown",
   "metadata": {},
   "source": [
    "Again use the `explore_data` function to display the last 5 rows. \n",
    "\n",
    "Use negative indexing for the start_row. \n",
    "\n",
    "For the end_row, modify your function definition to display until the last row. \n",
    "\n",
    "This time you don't have to display the number of rows and columns. \n",
    "\n",
    "Make sure that the `title` in the last row is <span style=\"color:#fc5a37\">'Captain Sparky vs. The Flying Saucers'.</span>"
   ]
  },
  {
   "cell_type": "code",
   "execution_count": null,
   "metadata": {},
   "outputs": [],
   "source": [
    "explore_data(data,-5, None, False)"
   ]
  },
  {
   "attachments": {},
   "cell_type": "markdown",
   "metadata": {},
   "source": [
    "## Step 3: Separate Movies and TV Shows\n",
    "\n",
    "### Description\n",
    "Code a `for loop` to separate\n",
    "\n",
    "1. Movies to `disney_movies`\n",
    "2. TV Shows to `disney_shows`\n",
    "3. also check if there are any other than movies and shows. \n",
    "    \n",
    "So, if the `type` is `Movie - Animation` or `MOVIE-Comedy`, it should be in `disney_movies`.\n",
    "\n",
    "There could be many other combinations. So, if the `type`starts with `movie`it should be in `disney_movies`\n",
    "\n",
    "Similarly, for example, if the `type`is `TV Show - Docuseries` or `TV show - Season 1`, it should be in `disney_shows`. \n",
    "\n",
    "Rest other that do not start with `Movie`or `TV Show` should be classified as `disney_other`. "
   ]
  },
  {
   "cell_type": "markdown",
   "metadata": {},
   "source": [
    "### Pseudocode\n",
    "\n",
    "Write a for loop to go through each row in the `data`\n",
    "\n",
    "- Convert the `title`to lower case. Because the `title`column is the second column, you will need to get the element at index 1 in each row. \n",
    "- Write an if else statement\n",
    "  - If title starts with <span style=\"color:#fc5a37\"> \"movie\" </span>\n",
    "    - Update the `title`to just <span style=\"color:#fc5a37\"> \"Movie\" </span>\n",
    "    - Append it to `disney_movies`\n",
    "  - Else, do the same with <span style=\"color:#fc5a37\"> \"tv\" </span> and append to `disney_shows`\n",
    "  - Anything else, should be appended to `disney_other`\n"
   ]
  },
  {
   "cell_type": "markdown",
   "metadata": {},
   "source": [
    "### Write code below"
   ]
  },
  {
   "cell_type": "code",
   "execution_count": 7,
   "metadata": {},
   "outputs": [],
   "source": [
    "disney_movies = []\n",
    "disney_shows = []\n",
    "others = []\n",
    "\n",
    "for row in data:\n",
    "    type = row[1].lower()\n",
    "    if type.startswith(\"movie\"):\n",
    "        row[1] = \"Movie\"\n",
    "        disney_movies.append(row)\n",
    "    elif type.startswith(\"tv\"):\n",
    "        row[1] = \"TV Show\"\n",
    "        disney_shows.append(row)\n",
    "    else:\n",
    "        others.append(row)"
   ]
  },
  {
   "cell_type": "markdown",
   "metadata": {},
   "source": [
    "### Explore newly created datasets\n",
    "\n",
    "Explore all your new datasets created using your earlier created function. \n",
    "\n",
    "How many Movies and TV Shows are listed? \n",
    "\n",
    "Are there any other than Movies and TV Shows?\n",
    "\n",
    "Expected outputs:\n",
    "\n",
    "<style>\n",
    "    .code_block {\n",
    "        background-color: #ff795c;\n",
    "        color: white;\n",
    "    }\n",
    "</style>\n",
    "\n",
    "<div class=\"code_block\">\n",
    "\n",
    "Disney Movies:  1052\n",
    "\n",
    "Disney TV Shows:  398\n",
    "\n",
    "Disney Others:  0"
   ]
  },
  {
   "cell_type": "code",
   "execution_count": null,
   "metadata": {},
   "outputs": [],
   "source": [
    "print(\"Disney Movies: \", len(disney_movies))\n",
    "print(\"Disney TV Shows: \", len(disney_shows))\n",
    "print(\"Disney Others: \", len(others))"
   ]
  },
  {
   "cell_type": "code",
   "execution_count": null,
   "metadata": {},
   "outputs": [],
   "source": [
    "explore_data(disney_movies,0,5,False)"
   ]
  },
  {
   "cell_type": "code",
   "execution_count": null,
   "metadata": {},
   "outputs": [],
   "source": [
    "explore_data(disney_shows,0,5,False)"
   ]
  },
  {
   "cell_type": "markdown",
   "metadata": {},
   "source": [
    "## Step 4: Get a list of unique values in a column ##"
   ]
  },
  {
   "cell_type": "markdown",
   "metadata": {},
   "source": [
    "### Function description and output overview\n",
    "\n",
    "The function `list_of_elements` should print:\n",
    "  - The list of unique values in any required column\n",
    "\n",
    "The function will take the following as parameters:\n",
    "1. `my_data_local`\n",
    "2. `col_index_local`\n",
    "\n",
    "For example, I want to get unique values in `ratings`column.\n",
    "I will call this function and the output will be:\n",
    "\n",
    "<style>\n",
    "    .code_block {\n",
    "        background-color: #ff795c;\n",
    "        color: white;\n",
    "    }\n",
    "</style>\n",
    "\n",
    "<div class=\"code_block\">\n",
    "['TV-G', 'PG', 'TV-PG', '', 'PG-13', 'TV-14', 'G', 'TV-Y7', 'TV-Y', 'TV-Y7-FV']\n"
   ]
  },
  {
   "cell_type": "markdown",
   "metadata": {},
   "source": [
    "### Pseudocode\n",
    "Below is the Pseudocode for the function\n",
    "\n",
    "def list_of_elements(Give the parameters along with default values):\n",
    "\n",
    "  1. Create an empty list and assign it to `result_list`\n",
    "\n",
    "  2. Write a for loop to iterate over each row element in `my_data_local`\n",
    "      - If element in the row at `col_index_local`is not in the `result_list`, append it.\n",
    "      \n",
    "  3. Return `result_list`"
   ]
  },
  {
   "cell_type": "markdown",
   "metadata": {},
   "source": [
    "### Function definition"
   ]
  },
  {
   "cell_type": "code",
   "execution_count": 11,
   "metadata": {},
   "outputs": [],
   "source": [
    "def list_of_elements(my_data_local, col_index_local):\n",
    "    \"\"\"Function to generate list of unique values in given column\n",
    "    \n",
    "    Args:\n",
    "        data and column location \n",
    "\n",
    "    Returns:\n",
    "        unique values in given column location\n",
    "        \n",
    "    \"\"\"\n",
    "    result_list_l = []\n",
    "    for row_l in my_data_local:\n",
    "        if row_l[col_index_local] not in result_list_l:\n",
    "            result_list_l.append(row_l[col_index_local])\n",
    "    return result_list_l"
   ]
  },
  {
   "cell_type": "markdown",
   "metadata": {},
   "source": [
    "### Calling function\n",
    "\n",
    "What is the column index of `rating`column?\n",
    "\n",
    "Use the above created function to generate the list of unique `rating` in the original dataset. "
   ]
  },
  {
   "cell_type": "code",
   "execution_count": null,
   "metadata": {},
   "outputs": [],
   "source": [
    "print(list_of_elements(data,8))"
   ]
  },
  {
   "cell_type": "code",
   "execution_count": null,
   "metadata": {},
   "outputs": [],
   "source": [
    "#Another way of accessing the index of the column\n",
    "print(list_of_elements(data, data_header.index(\"rating\")))"
   ]
  },
  {
   "cell_type": "markdown",
   "metadata": {},
   "source": [
    "## Step 5: For each corresponding unique value in a column get the number of movies and shows. ##"
   ]
  },
  {
   "cell_type": "markdown",
   "metadata": {},
   "source": [
    "### Function description and output overview\n",
    "\n",
    "The function `elements_count` should return:\n",
    "  - The key value pair where\n",
    "    - key is the unique element\n",
    "    - value is the count of movies or TV shows or both with that unique element\n",
    "\n",
    "The function will take the following as parameters:\n",
    "1. `my_data_local`\n",
    "2. `col_index_local`\n",
    "\n",
    "For example, I want to get unique values and corresponding count in `ratings`column in `disney_movies`.\n",
    "I will call this function on `disney_movies` and the output will be:\n",
    "\n",
    "<style>\n",
    "    .code_block {\n",
    "        background-color: #ff795c;\n",
    "        color: white;\n",
    "    }\n",
    "</style>\n",
    "\n",
    "<div class=\"code_block\">\n",
    "{'G': 253, 'PG': 235, 'TV-G': 233, 'TV-PG': 181, 'PG-13': 66, 'TV-14': 37, 'TV-Y7': 36, 'TV-Y7-FV': 7, 'TV-Y': 3, '': 1}\n"
   ]
  },
  {
   "cell_type": "markdown",
   "metadata": {},
   "source": [
    "### Pseudocode\n",
    "Below is the Pseudocode for the function\n",
    "\n",
    "def elements_count(Give the parameters along with default values):\n",
    "\n",
    "  1. Create an empty dictionary and assign it to `element_count_dict`\n",
    "\n",
    "  2. Write a for loop to iterate over each row element in `my_data_local`\n",
    "      - If element in the row at `col_index_local`is not in the key of `element_count_dict`, add it and initialize the value to 1.\n",
    "      - If element in the row at `col_index_local`is in the `element_count_dict`, increment the value by 1.\n",
    "\n",
    "  3. Sort the dictionary based on the corresponding values in descending order. \n",
    "      \n",
    "  3. Return `element_count_dict`"
   ]
  },
  {
   "cell_type": "code",
   "execution_count": 14,
   "metadata": {},
   "outputs": [],
   "source": [
    "def elements_count(my_data_local, col_index_local):\n",
    "    \"\"\"Function to generate list of unique ratings and count of movies/TV shows with those unique ratings in given column in descending order of count\n",
    "    \n",
    "    Args:\n",
    "        data\n",
    "\n",
    "    Returns:\n",
    "        unique ratings along with count sorted in descending order\n",
    "        \n",
    "    \"\"\"\n",
    "    element_count_dict = {}\n",
    "    for row_l in my_data_local:\n",
    "        element_l = row_l[col_index_local]\n",
    "        if element_l in element_count_dict:\n",
    "            element_count_dict[element_l] += 1\n",
    "        else:\n",
    "            element_count_dict[element_l] = 1\n",
    "    sorted_elements_count = dict(sorted(element_count_dict.items(), key=lambda item: item[1], reverse=True))\n",
    "    return sorted_elements_count"
   ]
  },
  {
   "cell_type": "markdown",
   "metadata": {},
   "source": [
    "### Calling function\n",
    "Print the Movie Ratings Count and TV Shows Ratings Count. \n",
    "\n",
    "You will have to call above function separately on `disney_movies`and `disney_shows`"
   ]
  },
  {
   "cell_type": "code",
   "execution_count": null,
   "metadata": {},
   "outputs": [],
   "source": [
    "print(\"Moview Ratings Count:\", elements_count(disney_movies,8))\n",
    "print(\"Shows Ratings Count:\", elements_count(disney_shows,8))"
   ]
  },
  {
   "cell_type": "markdown",
   "metadata": {},
   "source": [
    "## Step 6: Get the list of categories for `listed_in` column ##\n",
    "\n",
    "Get the list of unique values in `listed_in` column. \n",
    "\n",
    "It's now a one line code. \n",
    "\n",
    "You have to just re-use one of the earlier created functions. \n",
    "\n",
    "Could you identify which one?"
   ]
  },
  {
   "cell_type": "code",
   "execution_count": null,
   "metadata": {},
   "outputs": [],
   "source": [
    "print(list_of_elements(data,data_header.index(\"listed_in\")))"
   ]
  },
  {
   "cell_type": "markdown",
   "metadata": {},
   "source": [
    "## Step 7: Get the unique list of above categories and then the count in each category ##"
   ]
  },
  {
   "cell_type": "markdown",
   "metadata": {},
   "source": [
    "### Function description and output overview\n",
    "\n",
    "From the output of `step 6`, it is clear that there are multiple genres listed in single row.\n",
    "\n",
    "So, a movie might be listed in animation as well as family.\n",
    "\n",
    "The function `elements_count` should return:\n",
    "  - The key value pair where\n",
    "    - key is the unique element\n",
    "    - value is the count of movies or TV shows or both with that unique element\n",
    "\n",
    "The function will take the following as parameters:\n",
    "1. `my_data_local`\n",
    "2. `col_index_local`\n",
    "3. `sep_local`which separates each items in one single cell. So if it is listed in 'animation, family', it should be considered in the count for both the genres\n",
    "\n",
    "For example, I want to get unique values and corresponding count in `listed_in`column in `disney_movies`.\n",
    "I will call this function on `disney_movies` and the output will be:\n",
    "\n",
    "<style>\n",
    "    .code_block {\n",
    "        background-color: #ff795c;\n",
    "        color: white;\n",
    "    }\n",
    "</style>\n",
    "\n",
    "<div class=\"code_block\">\n",
    "\n",
    "{'Family': 533, 'Comedy': 407, 'Animation': 381, 'Action-Adventure': 314, 'Documentary': 174, 'Fantasy': 158, 'Coming of Age': 153, 'Animals & Nature': 130, 'Drama': 121, 'Science Fiction': 76, 'Biographical': 41, 'Musical': 40, 'Kids': 39, 'Music': 38, 'Sports': 38, 'Historical': 38, 'Buddy': 24, 'Romance': 19, 'Superhero': 16, 'Crime': 16, 'Mystery': 8, 'Concert Film': 7, 'Variety': 7, 'Parody': 7, 'Anthology': 7, 'Dance': 6, 'Thriller': 5, 'Western': 5, 'Reality': 4, 'Lifestyle': 3, 'Movies': 3, 'Survival': 3, 'Spy/Espionage': 2, 'Romantic Comedy': 2, 'Medical': 2, 'Disaster': 2}"
   ]
  },
  {
   "cell_type": "markdown",
   "metadata": {},
   "source": [
    "### Pseudocode\n",
    "<span style=\"color:#fc5a37\"> UPDATE </span> the Pseudocode below for the requirement above.\n",
    "\n",
    "def elements_count(Give the parameters along with default values):\n",
    "\n",
    "  1. Create an empty dictionary and assign it to `element_count_dict`\n",
    "\n",
    "  2. Write a for loop to iterate over each row element in `my_data_local`\n",
    "      - If element in the row at `col_index_local`is not in the key of `element_count_dict`, add it and initialize the value to 1.\n",
    "      - If element in the row at `col_index_local`is in the `element_count_dict`, increment the value by 1.\n",
    "\n",
    "  3. Sort the dictionary based on the corresponding values in descending order. \n",
    "      \n",
    "  3. Return `element_count_dict`"
   ]
  },
  {
   "cell_type": "markdown",
   "metadata": {},
   "source": [
    "### Function definition\n",
    "Update the function definition below. Include DocString that would explain what this function does."
   ]
  },
  {
   "cell_type": "code",
   "execution_count": 17,
   "metadata": {},
   "outputs": [],
   "source": [
    "def elements_count(my_data_local, col_index_local, sep_local):\n",
    "    \"\"\"Function to generate list of unique ratings and count of movies/TV shows with those unique ratings in given column in descending order of count\n",
    "    \n",
    "    Args:\n",
    "        data\n",
    "\n",
    "    Returns:\n",
    "        unique ratings along with count sorted in descending order\n",
    "        \n",
    "    \"\"\"\n",
    "    element_count_dict = {}\n",
    "    for row_l in my_data_local:\n",
    "        element_list_l = row_l[col_index_local].split(sep_local)\n",
    "        for element_l in element_list_l:\n",
    "            if element_l in element_count_dict:\n",
    "                element_count_dict[element_l] += 1\n",
    "            else:\n",
    "                element_count_dict[element_l] = 1\n",
    "    sorted_elements_count = dict(sorted(element_count_dict.items(), key=lambda item: item[1], reverse=True))\n",
    "    return sorted_elements_count"
   ]
  },
  {
   "cell_type": "markdown",
   "metadata": {},
   "source": [
    "### Calling Function\n",
    "Use above created function to print the unique list of Genres which is in the column `listed_in`.\n",
    "\n",
    "It should print this separately for `Movies` and `TV Shows`."
   ]
  },
  {
   "cell_type": "code",
   "execution_count": null,
   "metadata": {},
   "outputs": [],
   "source": [
    "print(\"Moview Category Count:\", elements_count(disney_movies, data_header.index(\"listed_in\"), \", \"))"
   ]
  },
  {
   "cell_type": "code",
   "execution_count": null,
   "metadata": {},
   "outputs": [],
   "source": [
    "\n",
    "print(\"Shows Category Count:\", elements_count(disney_shows, 10, \", \"))"
   ]
  },
  {
   "attachments": {},
   "cell_type": "markdown",
   "metadata": {},
   "source": [
    "The maximum movies are listed in Family followed by Comedy and animation.\n",
    "\n",
    "The maximum Shows are listed in Animation followed by Action-Adventure and Docuseries."
   ]
  },
  {
   "cell_type": "markdown",
   "metadata": {},
   "source": [
    "## Step 8: What is the average duration of movies and shows ##"
   ]
  },
  {
   "cell_type": "markdown",
   "metadata": {},
   "source": [
    "### Function description and output overview\n",
    "\n",
    "You need to write two functions for this step:\n",
    "\n",
    "1. The duration of movies is in minutes and shows in seasons.\n",
    "\n",
    "    Define function `duration_conversion`that will remove the suffix <span style=\"color:#fc5a37\"> minutes </span> and <span style=\"color:#fc5a37\"> seasons </span> and convert them to numeric.\n",
    "\n",
    "    This should take below parameters:\n",
    "\n",
    "    a. my_data_local\n",
    "\n",
    "    b. col_index_local\n",
    "\n",
    "2. Create a function `average` that will create the average of all the values in a column in given dataset.\n",
    "\n",
    "    This should take below parameters:\n",
    "\n",
    "    a. my_data_local\n",
    "    \n",
    "    b. col_index_local"
   ]
  },
  {
   "cell_type": "markdown",
   "metadata": {},
   "source": [
    "### Pseudocode\n",
    "\n",
    "1. Write pseudocode for function `duration_conversion`that will delete any suffixes after the space.\n",
    "\n",
    "2. Write pseudcode for function `average`"
   ]
  },
  {
   "cell_type": "markdown",
   "metadata": {},
   "source": [
    "### Function definition\n",
    "Update the function definition for `duration_conversion`and `average`."
   ]
  },
  {
   "cell_type": "code",
   "execution_count": 20,
   "metadata": {},
   "outputs": [],
   "source": [
    "def duration_conversion(my_data_local):\n",
    "    \"\"\"Removes Suffix and converts the value in integer. The column is hardcoded to location 9.\n",
    "\n",
    "    Args:\n",
    "        data\n",
    "\n",
    "    Returns:\n",
    "        updates the column by dropping the suffix and converting the values to integers\n",
    "        \n",
    "    \"\"\"\n",
    "    for row_l in my_data_local:\n",
    "        new_values = []\n",
    "        new_values = row_l[9].split(\" \")\n",
    "        row_l[9] = int(new_values[0])\n",
    "    return my_data_local"
   ]
  },
  {
   "cell_type": "code",
   "execution_count": 21,
   "metadata": {},
   "outputs": [],
   "source": [
    "def average(data_l,loc_l):\n",
    "    \"\"\"Calculates the average of the values in given column\n",
    "\n",
    "    Args:\n",
    "        data, column location\n",
    "\n",
    "    Returns:\n",
    "        average of all the values\n",
    "        \n",
    "    \"\"\"\n",
    "    sum_l = 0\n",
    "    count_l = 0\n",
    "    for row_l in data_l:\n",
    "        sum_l += row_l[loc_l]\n",
    "        count_l += 1\n",
    "    return(sum_l/count_l)"
   ]
  },
  {
   "cell_type": "markdown",
   "metadata": {},
   "source": [
    "### Calling functions\n",
    "Use the newly created functions to calculate the average duration for movies. \n",
    "\n",
    "You will have to first call the function `duration_conversion` on disney_movies to convert the duration to numeric. \n",
    "\n",
    "Also, remember to store this in another data list `disney_movies_mod`. \n",
    "\n",
    "Now call your average function using this new data list to calculate the average duration of movies. \n",
    "\n",
    "The expected output is:\n",
    "\n",
    "<style>\n",
    "    .code_block {\n",
    "        background-color: #ff795c;\n",
    "        color: white;\n",
    "    }\n",
    "</style>\n",
    "\n",
    "<div class=\"code_block\">\n",
    "Average Duration of Movies in minutes:  71.9106463878327"
   ]
  },
  {
   "cell_type": "code",
   "execution_count": 22,
   "metadata": {},
   "outputs": [],
   "source": [
    "disney_movies_mod = duration_conversion(disney_movies)"
   ]
  },
  {
   "cell_type": "code",
   "execution_count": null,
   "metadata": {},
   "outputs": [],
   "source": [
    "explore_data(disney_movies_mod,0,2,True)"
   ]
  },
  {
   "cell_type": "code",
   "execution_count": null,
   "metadata": {},
   "outputs": [],
   "source": [
    "print(\"Average Duration of Movies in minutes: \", average(disney_movies_mod, 9))"
   ]
  },
  {
   "cell_type": "markdown",
   "metadata": {},
   "source": [
    " Now Calculate the average duration for TV Shows. \n",
    " \n",
    " The Expected output is:\n",
    "\n",
    "<style>\n",
    "    .code_block {\n",
    "        background-color: #ff795c;\n",
    "        color: white;\n",
    "    }\n",
    "</style>\n",
    "\n",
    "<div class=\"code_block\">\n",
    " The average duration of TV shows is 2 seasons."
   ]
  },
  {
   "cell_type": "code",
   "execution_count": null,
   "metadata": {},
   "outputs": [],
   "source": [
    "disney_show_mod = duration_conversion(disney_shows)\n",
    "explore_data(disney_show_mod,0,2,True)"
   ]
  },
  {
   "cell_type": "code",
   "execution_count": null,
   "metadata": {},
   "outputs": [],
   "source": [
    "print(\"Average Duration of Shows in seasons: \", average(disney_show_mod, 9))"
   ]
  },
  {
   "cell_type": "markdown",
   "metadata": {},
   "source": [
    "## (OPTIONAL) Step 9: Can you make your function more robust? ##\n",
    "\n",
    "### Function description and output overview\n",
    "Make a function `filter_data` to filter the data based on criteria in the input.\n",
    "\n",
    "Use this function `filter_data` in `elements_count` to generate statistics for filtered data. \n",
    "\n",
    "For example, if your content manager asks you to provide the count of movies based on genre only in Germany. \n",
    "\n",
    "You start working on the function and after some time he wants the data only for the year 2004. \n",
    "\n",
    "With this ever changing filtering criteria, you decide to make your function handle this dynamic changing filtering list. \n",
    "\n",
    "You now accept the filtering criteria in a dictionary. Where keys are the column index and value are the respective filter values.\n",
    "\n",
    "If I want to print the count of movies based on genre and without any filtering criteria. \n",
    "\n",
    "We need to just call the function like this:\n",
    "\n",
    "print(items_count(disney_movies, 10, ',', {}))\n",
    "\n",
    "The output should look like:\n",
    "\n",
    "<style>\n",
    "    .code_block {\n",
    "        background-color: #ff795c;\n",
    "        color: white;\n",
    "    }\n",
    "</style>\n",
    "\n",
    "<div class=\"code_block\">\n",
    "\n",
    "{'Family': 533, 'Comedy': 407, 'Animation': 381, 'Action-Adventure': 314, 'Documentary': 174, 'Fantasy': 158, 'Coming of Age': 153, 'Animals & Nature': 130, 'Drama': 121, 'Science Fiction': 76, 'Biographical': 41, 'Musical': 40, 'Kids': 39, 'Music': 38, 'Sports': 38, 'Historical': 38, 'Buddy': 24, 'Romance': 19, 'Superhero': 16, 'Crime': 16, 'Mystery': 8, 'Concert Film': 7, 'Variety': 7, 'Parody': 7, 'Anthology': 7, 'Dance': 6, 'Thriller': 5, 'Western': 5, 'Reality': 4, 'Lifestyle': 3, 'Movies': 3, 'Survival': 3, 'Spy/Espionage': 2, 'Romantic Comedy': 2, 'Medical': 2, 'Disaster': 2}"
   ]
  },
  {
   "cell_type": "code",
   "execution_count": 27,
   "metadata": {},
   "outputs": [],
   "source": [
    "def filter_data(row_ll, filters_ll):\n",
    "    \"\"\"Selects the row based on list of filter criteria\n",
    "\n",
    "    Args:\n",
    "        single row, list of filter criteria in dictionary format where key is the column location and value is the desired value for that column\n",
    "\n",
    "    Returns:\n",
    "        True or False based on if it qualifies for the given filter criteria\n",
    "        \n",
    "    \"\"\"\n",
    "    include_row_ll = True\n",
    "    for loc_filter_ll, val_filter_ll in filters_ll.items():\n",
    "        if ',' in row_ll[loc_filter_ll]:\n",
    "            parts_ll = [part.strip() for part in row_ll[loc_filter_ll].split(',')]\n",
    "            if val_filter_ll not in parts_ll:\n",
    "                include_row_ll = False\n",
    "                break\n",
    "        else:\n",
    "            if row_ll[loc_filter_ll] != val_filter_ll:\n",
    "                include_row_ll = False\n",
    "                break\n",
    "    return include_row_ll"
   ]
  },
  {
   "cell_type": "code",
   "execution_count": 28,
   "metadata": {},
   "outputs": [],
   "source": [
    "def items_count(dataset_l, loc_l, sep_l, filters_l):\n",
    "    \"\"\"Give the list of unique values with it's count sorted in descending order. The column might contain the list of values separated by separator. Also, you can specify any number of filtering criteria in the form of dictionary where key would be the column location and value would be filtering value.\n",
    "\n",
    "    Args:\n",
    "        dataset, column location, separator for values in given column, filter criteria dictionary\n",
    "    Returns:\n",
    "        Unique Values along with it's count in descending order\n",
    "        \n",
    "    \"\"\"\n",
    "    items_count_l = {}\n",
    "    for row_l in dataset_l:\n",
    "        if filters_l != {}:\n",
    "            include_row_l = filter_data(row_l, filters_l)\n",
    "        else:\n",
    "            include_row_l = True\n",
    "        if include_row_l:\n",
    "            items_list_l = row_l[loc_l].split(sep_l)\n",
    "            for item_l in items_list_l:\n",
    "                if item_l.strip() in items_count_l:\n",
    "                    items_count_l[item_l.strip()] += 1\n",
    "                else:\n",
    "                    items_count_l[item_l.strip()] = 1\n",
    "    sorted_items_count = dict(sorted(items_count_l.items(), key=lambda item: item[1], reverse=True))\n",
    "    return sorted_items_count"
   ]
  },
  {
   "cell_type": "markdown",
   "metadata": {},
   "source": [
    "Print the count of movies based on genre and without any filtering criteria"
   ]
  },
  {
   "cell_type": "code",
   "execution_count": null,
   "metadata": {},
   "outputs": [],
   "source": [
    "print(items_count(disney_movies, 10, ',', {}))"
   ]
  },
  {
   "cell_type": "markdown",
   "metadata": {},
   "source": [
    "Now, print the count of movies based on genre and only for Germany"
   ]
  },
  {
   "cell_type": "code",
   "execution_count": null,
   "metadata": {},
   "outputs": [],
   "source": [
    "print(items_count(disney_movies, 10, ',', {5: 'Germany'}))"
   ]
  },
  {
   "cell_type": "markdown",
   "metadata": {},
   "source": [
    "Now, print the count of movies based on genre and only for Germany and that too only for year 2004"
   ]
  },
  {
   "cell_type": "code",
   "execution_count": null,
   "metadata": {},
   "outputs": [],
   "source": [
    "print(items_count(disney_movies, 10, ',', {5: 'Germany', 7: '2004'}))"
   ]
  },
  {
   "attachments": {},
   "cell_type": "markdown",
   "metadata": {},
   "source": [
    "## Step 9: Now let's create an interactive tool for the content manage ##\n",
    "\n",
    "For this, create a new folder `Ànalysis_tool`. Make different functions as modules. For example ` explore_data.py`. In the main file `analysis.py`, import all the modules. Code your interactive tool after ` if __name__ == \"__main__\": ` The tool should be interactive in the following way:\n",
    "\n",
    "1. Ask if the combined data has to be analyzed or movies or TV shows has to be analyzed.\n",
    "2. Create options based on your created functions. Ask interactively to give filter options or the column options on which it wants the unique list. Be innovative.\n",
    "3. Make it repetitive until user wants to exist. \n",
    "\n",
    "Once you are done, execute this code using terminal by giving `Python analysis.py`\n",
    "\n",
    "Your tool might look like this:\n",
    "````\n",
    "To analyze combined dataset type c \n",
    "To analyze only movies type m \n",
    "To analyze only TV shows type t  \n",
    "To quit q \n",
    "Enter the option!: \n",
    "````\n",
    "If you give option 'm', it will analyze only movies. Next it will ask:\n",
    "```\n",
    "To explore the dataset type e \n",
    "To list the unique values in a column type u \n",
    "To count number of movies/TV shows for each unique values type c \n",
    "To find the average value in a column type a \n",
    "Enter the option!: \n",
    "````\n",
    "If you give option c, it will give the count of unique values in asked column based on given filter criteria.\n",
    "```\n",
    "Which column:\n",
    "0: show_id\n",
    "1: type\n",
    "2: title\n",
    "3: director\n",
    "4: cast\n",
    "5: country\n",
    "6: date_added\n",
    "7: release_year\n",
    "8: rating\n",
    "9: duration\n",
    "10: listed_in\n",
    "11: description\n",
    "Enter the number as per the list above: \n",
    "````\n",
    "If you give 10 and then in separator as ',', it will ask you for filter criteria\n",
    "````\n",
    "Enter the number as per the list above: 10\n",
    "Enter the separator in case of multiple values: ,\n",
    "Are there filter criteria yes/no: \n",
    "````\n",
    "If you want to give filter criteria, say 'yes' and it will ask for column and value on which to filter\n",
    "````\n",
    "Which column:\n",
    "0: show_id\n",
    "1: type\n",
    "2: title\n",
    "3: director\n",
    "4: cast\n",
    "5: country\n",
    "6: date_added\n",
    "7: release_year\n",
    "8: rating\n",
    "9: duration\n",
    "10: listed_in\n",
    "11: description\n",
    "Enter column to filter as per above list: \n",
    "````\n",
    "Say, you want to filter on country.\n",
    "````\n",
    "['', 'United States', 'Australia', 'Canada', 'United Kingdom', 'Ireland', 'Denmark', 'Spain', 'Poland', 'Hungary', 'Germany', 'Singapore', 'Thailand', 'Brazil', 'Belgium', 'Austria', 'South Africa', 'Japan', 'France', 'Hong Kong', 'United Arab Emirates', 'Mexico', 'Switzerland', 'India', 'China', 'Tanzania', 'Panama', 'Angola', 'Botswana', 'Namibia', 'South Korea', 'Russia', 'Malaysia', 'Kazakhstan', 'Taiwan', 'Syria', 'Iran', 'Egypt', 'Pakistan', 'New Zealand', 'Norway', 'Sweden', 'Slovenia', 'Czech Republic']\n",
    "What value you want to filter: \n",
    "````\n",
    "Now give the value of country. Say, Germany.\n",
    "````\n",
    "Are there more filter criteria yes/no: \n",
    "````\n",
    "Now, let's say you want to filter on release_year\n",
    "````\n",
    "Which column:\n",
    "0: show_id\n",
    "1: type\n",
    "2: title\n",
    "3: director\n",
    "4: cast\n",
    "5: country\n",
    "6: date_added\n",
    "7: release_year\n",
    "8: rating\n",
    "9: duration\n",
    "10: listed_in\n",
    "11: description\n",
    "Enter column to filter as per above list: \n",
    "````\n",
    "After giving 7:\n",
    "````\n",
    "['2016', '1988', '2011', '2021', '2008', '2020', '2007', '2014', '2015', '2013', '2012', '2006', '2010', '1996', '2009', '1993', '1994', '2019', '2017', '2005', '2000', '2004', '1987', '1967', '1991', '1956', '1995', '1984', '1985', '1974', '1959', '2003', '1997', '2018', '2001', '1990', '1992', '1998', '1952', '1955', '1977', '1957', '1999', '1989', '1948', '1964', '1969', '1942', '1950', '1951', '1953', '1949', '1940', '1946', '1954', '1936', '1944', '1935', '1939', '1975', '1978', '1971', '1961', '2002', '1962', '1981', '1932', '1938', '1941', '1986', '1947', '1937', '1966', '1943', '1934', '1976', '1980', '1960', '1983', '1973', '1972', '1928', '1965', '1979', '1970', '1963', '1933', '1945', '1982', '1968']\n",
    "What value you want to filter: \n",
    "````\n",
    "Let's get the data for year 2004.\n",
    "```\n",
    "Are there more filter criteria yes/no: \n",
    "````\n",
    "That's all. No more filter criteria. So it should return:\n",
    "````\n",
    "{'Comedy': 2, 'Action-Adventure': 1, 'Family': 1, 'Coming of Age': 1}\n",
    "\n",
    "To analyze combined dataset type c \n",
    "To analyze only movies type m \n",
    "To analyze only TV shows type t  \n",
    "To quit q \n",
    "Enter the option!:\n",
    "````\n"
   ]
  }
 ],
 "metadata": {
  "kernelspec": {
   "display_name": "base",
   "language": "python",
   "name": "python3"
  },
  "language_info": {
   "codemirror_mode": {
    "name": "ipython",
    "version": 3
   },
   "file_extension": ".py",
   "mimetype": "text/x-python",
   "name": "python",
   "nbconvert_exporter": "python",
   "pygments_lexer": "ipython3",
   "version": "3.12.3"
  },
  "orig_nbformat": 4,
  "vscode": {
   "interpreter": {
    "hash": "619b955346cbfe204b67180c22b650d924d6345250d3da715f150ba579a03d34"
   }
  }
 },
 "nbformat": 4,
 "nbformat_minor": 2
}
